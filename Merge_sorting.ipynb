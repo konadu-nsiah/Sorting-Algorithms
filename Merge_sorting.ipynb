{
 "cells": [
  {
   "cell_type": "markdown",
   "metadata": {},
   "source": [
    "Merge Sort Algorithm : Uses or follows divide and conquer rule. The given list is first divied into smaller lists and compares adjacent lists and then, reorders them in the desired sequence.\n",
    "# first we are going to check if the list contains more than one item. if yes then well divide the list into two halfs else it will be sorted.\n",
    "# The list is going to be divided repeatedly until there is only a single item left in the sublist\n",
    "# Merge sort recursively merges the sublist arranging them in the order unti you get a single sorted list."
   ]
  },
  {
   "cell_type": "code",
   "execution_count": 6,
   "metadata": {},
   "outputs": [],
   "source": [
    "def merge_sort(list, left, right):\n",
    "    if right - left > 1:\n",
    "        middle = (left + right)// 2\n",
    "        merge_sort(list, left, middle)\n",
    "        merge_sort(list, middle, right)\n",
    "        merge_list(mylist=list, right=right, left=left, middle=middle)\n"
   ]
  },
  {
   "cell_type": "code",
   "execution_count": 8,
   "metadata": {},
   "outputs": [
    {
     "name": "stdout",
     "output_type": "stream",
     "text": [
      "['2', '5', '4', '6', '2', '1', '3']\n",
      "The sorted list is:\n",
      "[1, 2, 2, 3, 4, 5, 6]\n"
     ]
    }
   ],
   "source": [
    "def merge_list(mylist, left, middle, right):\n",
    "    leftlist = mylist[left:middle]\n",
    "    rightlist = mylist[middle:right]\n",
    "    k =left\n",
    "    i = 0\n",
    "    j = 0\n",
    "    while (left + i < middle and middle  + j < right):\n",
    "        if (leftlist[i]<= rightlist[j]):\n",
    "            mylist[k] = leftlist[i]\n",
    "            i = i + 1\n",
    "        else:\n",
    "            mylist[k] = rightlist[j]\n",
    "            j= j + 1\n",
    "        k = k + 1\n",
    "    if left + i < middle:\n",
    "        while k < right:\n",
    "            mylist[k] = leftlist[i]\n",
    "            i = i + 1\n",
    "            k = k + 1\n",
    "    else:\n",
    "        while k< right:\n",
    "            mylist[k] = rightlist[j] \n",
    "            j = j + 1\n",
    "            k = k + 1\n",
    "input_list = input('Enter the list values to sorted:').split(' ')\n",
    "print(input_list)\n",
    "#mylist = [ 6, 7, 8, 3, 5, 4]\n",
    "input_list = [int(x) for x in input_list]\n",
    "merge_sort(input_list, 0, len(input_list))\n",
    "print('The sorted list is:')\n",
    "print(input_list)\n",
    "\n"
   ]
  }
 ],
 "metadata": {
  "kernelspec": {
   "display_name": "Python 3.10.8 ('modern': venv)",
   "language": "python",
   "name": "python3"
  },
  "language_info": {
   "codemirror_mode": {
    "name": "ipython",
    "version": 3
   },
   "file_extension": ".py",
   "mimetype": "text/x-python",
   "name": "python",
   "nbconvert_exporter": "python",
   "pygments_lexer": "ipython3",
   "version": "3.10.8"
  },
  "orig_nbformat": 4,
  "vscode": {
   "interpreter": {
    "hash": "0583a063036e221fbec2b7750ae4a12073140529f19c3dcde68a65a0a99dac92"
   }
  }
 },
 "nbformat": 4,
 "nbformat_minor": 2
}
