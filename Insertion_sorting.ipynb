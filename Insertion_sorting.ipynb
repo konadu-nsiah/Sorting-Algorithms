{
 "cells": [
  {
   "cell_type": "markdown",
   "metadata": {},
   "source": [
    "Insertion sorting picks one element of a given list at a time and places it at the exact spot where it belongs or it to be placed.\n",
    "1. It first compares the first element with the next element that is the key to the left and if they are not in order, then i will swap them.\n",
    "2. I will accept the next element as key, then I will check this new element with the left list, if this new element has to be repositioned, i will shift all the elements that are greater towards the right and place the key element at the right position.\n",
    "3. Repeat step 2 until all the numbers in the list are sorted"
   ]
  },
  {
   "cell_type": "code",
   "execution_count": null,
   "metadata": {},
   "outputs": [
    {
     "name": "stdout",
     "output_type": "stream",
     "text": [
      "['12', '54', '22']\n",
      "your sorted list:\n",
      "[12, 12, 12]\n"
     ]
    }
   ],
   "source": [
    "def isort(a):\n",
    "    for x in range(1, len(a)):\n",
    "        k = a[x]\n",
    "        j = x-1\n",
    "        while j >= 0 and k > a[j]:\n",
    "            a[j+1] = a[j]\n",
    "            j -= 1++\n",
    "list= input('enter your list to be sorted: ').split(' ')\n",
    "print(list)\n",
    "inputed_list = [int(b) for b in list]\n",
    "isort(inputed_list)\n",
    "print('your sorted list:')\n",
    "print(inputed_list)"
   ]
  }
 ],
 "metadata": {
  "kernelspec": {
   "display_name": "Python 3.10.8 ('modern': venv)",
   "language": "python",
   "name": "python3"
  },
  "language_info": {
   "codemirror_mode": {
    "name": "ipython",
    "version": 3
   },
   "file_extension": ".py",
   "mimetype": "text/x-python",
   "name": "python",
   "nbconvert_exporter": "python",
   "pygments_lexer": "ipython3",
   "version": "3.10.8"
  },
  "orig_nbformat": 4,
  "vscode": {
   "interpreter": {
    "hash": "0583a063036e221fbec2b7750ae4a12073140529f19c3dcde68a65a0a99dac92"
   }
  }
 },
 "nbformat": 4,
 "nbformat_minor": 2
}
