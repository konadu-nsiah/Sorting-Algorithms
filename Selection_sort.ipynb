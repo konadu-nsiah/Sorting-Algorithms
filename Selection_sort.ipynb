{
 "cells": [
  {
   "cell_type": "markdown",
   "metadata": {},
   "source": [
    "Insertion sort picks one element of a given list at a time and places it at the exact spot where it is to be placed.\n",
    "1. Make the first element as the minimum and compare it with the next element. \n",
    "2. If the next element is less than the selected element, mark that as the minimum and compare it with the next element\n",
    "3. Repeat the process until you compare all elements.\n",
    "4. Once done place thee minimum in the sorted array and that becomes the first element in the sorted array."
   ]
  },
  {
   "cell_type": "code",
   "execution_count": 3,
   "metadata": {},
   "outputs": [
    {
     "name": "stdout",
     "output_type": "stream",
     "text": [
      "[1, 3, 4, 6, 6, 7, 9]\n"
     ]
    }
   ],
   "source": [
    "def selection_sort(myarray, r):\n",
    "    for x in range(r):\n",
    "        minimum = x\n",
    "        for y in range(x + 1, r):\n",
    "            if myarray[y]< myarray[minimum]:\n",
    "                minimum = y\n",
    "        (myarray[x], myarray[minimum]) = (myarray[minimum], myarray[x])\n",
    "#mylist = [34, 23, 1, 67, 4]\n",
    "mylist = input(('Enter your list to be sorted: ')). split(' ')\n",
    "mylist = [int(x) for x in mylist]\n",
    "r = len(mylist)\n",
    "selection_sort(mylist, r)\n",
    "print(mylist)"
   ]
  }
 ],
 "metadata": {
  "kernelspec": {
   "display_name": "Python 3.10.8 64-bit (microsoft store)",
   "language": "python",
   "name": "python3"
  },
  "language_info": {
   "codemirror_mode": {
    "name": "ipython",
    "version": 3
   },
   "file_extension": ".py",
   "mimetype": "text/x-python",
   "name": "python",
   "nbconvert_exporter": "python",
   "pygments_lexer": "ipython3",
   "version": "3.10.8"
  },
  "orig_nbformat": 4,
  "vscode": {
   "interpreter": {
    "hash": "486e0d5a79acdbfffd563ee7a67a93a5017bd2a4f66495483a69f0245c8a4a6c"
   }
  }
 },
 "nbformat": 4,
 "nbformat_minor": 2
}
