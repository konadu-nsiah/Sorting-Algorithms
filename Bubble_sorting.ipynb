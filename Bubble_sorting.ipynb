{
 "cells": [
  {
   "cell_type": "markdown",
   "metadata": {},
   "source": [
    "Bubble Sort Function : is a comparison algorithm that first compares and then sorts adjacent elements if they are not inthe specifie order\n",
    "# Starts at the first element which is index 0, and compare it with the second element which is index 1 adjacent to the first and swap them if theyre not in the right order.\n",
    "# You then compare the current element which is the index 1 to the next element adjacent to it to see if they are in order then same continues. \n",
    "# But if the current element and the next are in the right order you can just move on."
   ]
  },
  {
   "cell_type": "code",
   "execution_count": 1,
   "metadata": {},
   "outputs": [
    {
     "name": "stdout",
     "output_type": "stream",
     "text": [
      "['2', '3', '2', '1']\n",
      "Your sorted list:\n",
      "[1, 2, 2, 3]\n"
     ]
    }
   ],
   "source": [
    "def bubble_sort(a):\n",
    "    b = len(a)-1\n",
    "    for x in range(b):\n",
    "        for y in range(b-x):\n",
    "            if a[y] > a[y+1]:\n",
    "                a[y], a[y+1] = a[y+1], a[y]\n",
    "    return a\n",
    "list = input('Enter the list to be sorted:').split(' ')\n",
    "print(list)\n",
    "new_list= [int(y) for y in list]\n",
    "bubble_sort(new_list)\n",
    "print('Your sorted list:')\n",
    "print(new_list)"
   ]
  }
 ],
 "metadata": {
  "kernelspec": {
   "display_name": "Python 3.10.8 ('modern': venv)",
   "language": "python",
   "name": "python3"
  },
  "language_info": {
   "codemirror_mode": {
    "name": "ipython",
    "version": 3
   },
   "file_extension": ".py",
   "mimetype": "text/x-python",
   "name": "python",
   "nbconvert_exporter": "python",
   "pygments_lexer": "ipython3",
   "version": "3.10.8"
  },
  "orig_nbformat": 4,
  "vscode": {
   "interpreter": {
    "hash": "0583a063036e221fbec2b7750ae4a12073140529f19c3dcde68a65a0a99dac92"
   }
  }
 },
 "nbformat": 4,
 "nbformat_minor": 2
}
